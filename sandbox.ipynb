{
 "cells": [
  {
   "cell_type": "code",
   "execution_count": null,
   "metadata": {},
   "outputs": [],
   "source": [
    "from PIL import Image\n",
    "import matplotlib.pyplot as plt\n",
    "from src.util import horizontal_flip\n",
    "test_img = Image.open('data/images/000000000142.jpg')\n",
    "plt.subplot(1, 3, 1)\n",
    "plt.imshow(test_img)\n",
    "plt.subplot(1, 3, 2)\n",
    "plt.imshow(horizontal_flip(test_img))"
   ]
  }
 ],
 "metadata": {
  "language_info": {
   "name": "python"
  }
 },
 "nbformat": 4,
 "nbformat_minor": 2
}
